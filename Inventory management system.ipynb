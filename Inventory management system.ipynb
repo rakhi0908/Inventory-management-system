{
 "cells": [
  {
   "cell_type": "code",
   "execution_count": 1,
   "id": "01500dda",
   "metadata": {},
   "outputs": [],
   "source": [
    "records={\"1\": {\"prod_name\": \"Samsung\", \"prod_category\": \"mobile\", \"prod_qunatity\": 50, \"prod_price\": 20000, \"purchase_date\": \"20-09-2021\"}, \"2\": {\"prod_name\": \"Nokia\", \"prod_category\": \"mobile\", \"prod_qunatity\": 10, \"prod_price\": 15000, \"purchase_date\": \"20-09-2021\"}, \"3\": {\"prod_name\": \"RealME\", \"prod_category\": \"mobile\", \"prod_qunatity\": 10, \"prod_price\": 13000, \"purchase_date\": \"20-09-2021\"}, \"4\": {\"prod_name\": \"MI\", \"prod_category\": \"mobile\", \"prod_qunatity\": 30, \"prod_price\": 18000, \"purchase_date\": \"20-09-2021\"}, \"5\": {\"prod_name\": \"Apple\", \"prod_category\": \"mobile\", \"prod_qunatity\": 10, \"prod_price\": 80000, \"purchase_date\": \"20-09-2021\"}, \"6\": {\"prod_name\": \"Blackberry\", \"prod_category\": \"mobile\", \"prod_qunatity\": 20, \"prod_price\": 50000, \"purchase_date\": \"20-09-2021\"}, \"7\": {\"prod_name\": \"Moto\", \"prod_category\": \"mobile\", \"prod_qunatity\": 140, \"prod_price\": 25000, \"purchase_date\": \"20-09-2021\"}, \"8\": {\"prod_name\": \"Oneplus\", \"prod_category\": \"mobile\", \"prod_qunatity\": 30, \"prod_price\": 40000, \"purchase_date\": \"20-09-2021\"}, \"9\": {\"prod_name\": \"Lenovo\", \"prod_category\": \"mobile\", \"prod_qunatity\": 40, \"prod_price\": 20000, \"purchase_date\": \"20-09-2021\"}, \"10\": {\"prod_name\": \"Asus\", \"prod_category\": \"mobile\", \"prod_qunatity\": 50, \"prod_price\": 40000, \"purchase_date\": \"20-09-2021\"}, \"11\": {\"prod_name\": \"Honor\", \"prod_category\": \"mobile\", \"prod_qunatity\": 10, \"prod_price\": 25000, \"purchase_date\": \"20-09-2021\"}, \"12\": {\"prod_name\": \"ROG\", \"prod_category\": \"laptop\", \"prod_qunatity\": 40, \"prod_price\": 80000, \"purchase_date\": \"20-09-2021\"}, \"13\": {\"prod_name\": \"Acer\", \"prod_category\": \"laptop\", \"prod_qunatity\": 40, \"prod_price\": 40000, \"purchase_date\": \"20-09-2021\"}, \"14\": {\"prod_name\": \"HP\", \"prod_category\": \"laptop\", \"prod_qunatity\": 30, \"prod_price\": 50000, \"purchase_date\": \"20-09-2021\"}, \"15\": {\"prod_name\": \"Lenovo Laptops\", \"prod_category\": \"laptop\", \"prod_qunatity\": 40, \"prod_price\": 45000, \"purchase_date\": \"20-09-2021\"}, \"16\": {\"prod_name\": \"Macbook\", \"prod_category\": \"laptop\", \"prod_qunatity\": 10, \"prod_price\": 100000, \"purchase_date\": \"20-09-2021\"}, \"17\": {\"prod_name\": \"Dell\", \"prod_category\": \"laptop\", \"prod_qunatity\": 40, \"prod_price\": 70000, \"purchase_date\": \"20-09-2021\"}, \"18\": {\"prod_name\": \"MSI\", \"prod_category\": \"laptop\", \"prod_qunatity\": 40, \"prod_price\": 75000, \"purchase_date\": \"20-09-2021\"}, \"19\": {\"prod_name\": \"Sansui\", \"prod_category\": \"tv\", \"prod_qunatity\": 30, \"prod_price\": 18000, \"purchase_date\": \"20-09-2021\"}, \"20\": {\"prod_name\": \"Videocon\", \"prod_category\": \"tv\", \"prod_qunatity\": 40, \"prod_price\": 25000, \"purchase_date\": \"20-09-2021\"}, \"21\": {\"prod_name\": \"Motorola\", \"prod_category\": \"tv\", \"prod_qunatity\": 40, \"prod_price\": 25000, \"purchase_date\": \"20-09-2021\"}, \"22\": {\"prod_name\": \"Phillips\", \"prod_category\": \"tv\", \"prod_qunatity\": 40, \"prod_price\": 24000, \"purchase_date\": \"20-09-2021\"}, \"23\": {\"prod_name\": \"Oneplus TV\", \"prod_category\": \"tv\", \"prod_qunatity\": 50, \"prod_price\": 30000, \"purchase_date\": \"20-09-2021\"}, \"24\": {\"prod_name\": \"Samsung TV\", \"prod_category\": \"tv\", \"prod_qunatity\": 30, \"prod_price\": 35000, \"purchase_date\": \"20-09-2021\"}, \"25\": {\"prod_name\": \"Sony\", \"prod_category\": \"tv\", \"prod_qunatity\": 40, \"prod_price\": 45000, \"purchase_date\": \"20-09-2021\"}, \"26\": {\"prod_name\": \"Nokia TV\", \"prod_category\": \"tv\", \"prod_qunatity\": 40, \"prod_price\": 52000, \"purchase_date\": \"20-09-2021\"}, \"27\": {\"prod_name\": \"Panasonic\", \"prod_category\": \"tv\", \"prod_qunatity\": 40, \"prod_price\": 25000, \"purchase_date\": \"20-09-2021\"}, \"28\": {\"prod_name\": \"Onida\", \"prod_category\": \"tv\", \"prod_qunatity\": 60, \"prod_price\": 26000, \"purchase_date\": \"20-09-2021\"}, \"29\": {\"prod_name\": \"Micromax TV\", \"prod_category\": \"tv\", \"prod_qunatity\": 10, \"prod_price\": 22000, \"purchase_date\": \"20-09-2021\"}, \"30\": {\"prod_name\": \"Llyod\", \"prod_category\": \"tv\", \"prod_qunatity\": 40, \"prod_price\": 62000, \"purchase_date\": \"20-09-2021\"}}"
   ]
  },
  {
   "cell_type": "code",
   "execution_count": 2,
   "id": "2606174a",
   "metadata": {},
   "outputs": [],
   "source": [
    "import json"
   ]
  },
  {
   "cell_type": "code",
   "execution_count": 3,
   "id": "7bed09d3",
   "metadata": {},
   "outputs": [],
   "source": [
    "import json\n",
    "js = json.dumps(records)"
   ]
  },
  {
   "cell_type": "code",
   "execution_count": 4,
   "id": "f08c3c9b",
   "metadata": {},
   "outputs": [],
   "source": [
    "fd = open('record.json','w')\n",
    "fd.write(js)\n",
    "fd.close()"
   ]
  },
  {
   "cell_type": "markdown",
   "id": "0f998382",
   "metadata": {},
   "source": [
    "# Adding Products"
   ]
  },
  {
   "cell_type": "code",
   "execution_count": null,
   "id": "9e4fac29",
   "metadata": {},
   "outputs": [],
   "source": [
    "count = 1\n",
    "while True:\n",
    "    prod_id = str(input(\"enter the product id \"))\n",
    "    prod_name = str(input(\"enter the product name \"))\n",
    "    prod_category = str(input(\"enter the product category \"))\n",
    "    prod_qunatity = int(input(\"enter the product qunatity \"))\n",
    "    prod_price = int(input(\"enter the product price \"))\n",
    "    purchase_date = str(input(\"enter the purchase date \"))\n",
    "  \n",
    "    if(prod_id in records.keys()):\n",
    "        print(\"\\033[1m\" + \"Product Id is already Exist\")\n",
    "        print(\"\\033[1m\" + \"Enter New Product with new Product Id\")\n",
    "        break\n",
    "    else:\n",
    "        records[prod_id] = {'prod_name':prod_name,'prod_category':prod_category,'prod_qunatity':prod_qunatity,'prod_price':prod_price,'purchase_date'\n",
    "                         :purchase_date}\n",
    "        print(\"Enter 'yes' for Adding New product or Enter 'quit' anytime to exit:\")\n",
    "        count += 1\n",
    "        new_pro = input()\n",
    "        if new_pro == \"quit\":\n",
    "            break"
   ]
  },
  {
   "cell_type": "code",
   "execution_count": 8,
   "id": "56beaa66",
   "metadata": {},
   "outputs": [],
   "source": [
    "js = json.dumps(records)\n",
    "fd = open('record.json','w')\n",
    "fd.write(js)\n",
    "fd.close()"
   ]
  },
  {
   "cell_type": "markdown",
   "id": "21220b3a",
   "metadata": {},
   "source": [
    "# Purchasing Product"
   ]
  },
  {
   "cell_type": "code",
   "execution_count": null,
   "id": "8382b3ab",
   "metadata": {},
   "outputs": [],
   "source": [
    "count_in = 1\n",
    "prod_list = []\n",
    "sales = {}\n",
    "while True:\n",
    "    prod_id = str(input(\"enter the product id \"))\n",
    "    prod_qunat = int(input(\"enter the product qunatity \"))\n",
    "    sales[prod_id] = {'product':prod_id,'prod_qunat':prod_qunat,'amount':records[prod_id]['prod_price'] * prod_qunat}\n",
    "    prod_list.append(records[prod_id]['prod_name'])\n",
    "    prod_list.append(records[prod_id]['prod_price'])\n",
    "    prod_list.append(records[prod_id]['prod_price'] * prod_qunat)\n",
    "    if (records[prod_id]['prod_qunatity'] != 0):\n",
    "        records[prod_id]['prod_qunatity']  = records[prod_id]['prod_qunatity'] - prod_qunat\n",
    "    else:\n",
    "        print(\"Product is out of stock\")\n",
    "    print(\"Enter 'yes' for Purchase more product or Enter 'quit' anytime to exit:\")\n",
    "    count_in += 1\n",
    "    another_prod = input()\n",
    "    if another_prod == \"quit\":\n",
    "        break\n",
    "        \n",
    "print(\"List of purchased Item : \",prod_list)\n",
    "print(\"Sales : \",sales)"
   ]
  },
  {
   "cell_type": "code",
   "execution_count": 18,
   "id": "2cc14fed",
   "metadata": {},
   "outputs": [],
   "source": [
    "js = json.dumps(records)\n",
    "fd = open('record.json','w')\n",
    "fd.write(js)\n",
    "fd.close()"
   ]
  },
  {
   "cell_type": "code",
   "execution_count": 19,
   "id": "5d983c9b",
   "metadata": {},
   "outputs": [],
   "source": [
    "js = json.dumps(sales)\n",
    "fd = open('sales.json','w')\n",
    "fd.write(js)\n",
    "fd.close()"
   ]
  },
  {
   "cell_type": "code",
   "execution_count": null,
   "id": "64c7a649",
   "metadata": {},
   "outputs": [],
   "source": []
  }
 ],
 "metadata": {
  "kernelspec": {
   "display_name": "Python 3",
   "language": "python",
   "name": "python3"
  },
  "language_info": {
   "codemirror_mode": {
    "name": "ipython",
    "version": 3
   },
   "file_extension": ".py",
   "mimetype": "text/x-python",
   "name": "python",
   "nbconvert_exporter": "python",
   "pygments_lexer": "ipython3",
   "version": "3.8.8"
  }
 },
 "nbformat": 4,
 "nbformat_minor": 5
}
